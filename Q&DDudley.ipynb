{
  "nbformat": 4,
  "nbformat_minor": 0,
  "metadata": {
    "colab": {
      "provenance": [],
      "collapsed_sections": [],
      "authorship_tag": "ABX9TyNNgsZ71RViiLcVa8q7g/8I",
      "include_colab_link": true
    },
    "kernelspec": {
      "name": "python3",
      "display_name": "Python 3"
    },
    "language_info": {
      "name": "python"
    }
  },
  "cells": [
    {
      "cell_type": "markdown",
      "metadata": {
        "id": "view-in-github",
        "colab_type": "text"
      },
      "source": [
        "<a href=\"https://colab.research.google.com/github/bdudley14/CSC480-TransformData/blob/main/Q%26DDudley.ipynb\" target=\"_parent\"><img src=\"https://colab.research.google.com/assets/colab-badge.svg\" alt=\"Open In Colab\"/></a>"
      ]
    },
    {
      "cell_type": "code",
      "execution_count": 1,
      "metadata": {
        "colab": {
          "base_uri": "https://localhost:8080/"
        },
        "id": "355pIdMqWD2W",
        "outputId": "1bca9c14-9b88-4960-f9f7-98cd6f88d7be"
      },
      "outputs": [
        {
          "output_type": "stream",
          "name": "stdout",
          "text": [
            "  % Total    % Received % Xferd  Average Speed   Time    Time     Time  Current\n",
            "                                 Dload  Upload   Total   Spent    Left  Speed\n",
            "100  893M  100  893M    0     0  34.0M      0  0:00:26  0:00:26 --:--:-- 33.9M\n"
          ]
        }
      ],
      "source": [
        "!curl https://ecommwebsitedata.s3.amazonaws.com/acm-sf-chapter-hackathon-big.zip --output bestbuy.zip"
      ]
    },
    {
      "cell_type": "code",
      "source": [
        "!ls"
      ],
      "metadata": {
        "colab": {
          "base_uri": "https://localhost:8080/"
        },
        "id": "2qUvoa7eXmJg",
        "outputId": "a8b86417-45c5-422f-f9f8-c59aa8a7a384"
      },
      "execution_count": 2,
      "outputs": [
        {
          "output_type": "stream",
          "name": "stdout",
          "text": [
            "bestbuy.zip  sample_data\n"
          ]
        }
      ]
    },
    {
      "cell_type": "code",
      "source": [
        "!unzip bestbuy.zip"
      ],
      "metadata": {
        "colab": {
          "base_uri": "https://localhost:8080/"
        },
        "id": "wo4X_ys4YBxV",
        "outputId": "e52a9442-6644-4f85-837e-1d51ce1a6eb1"
      },
      "execution_count": 3,
      "outputs": [
        {
          "output_type": "stream",
          "name": "stdout",
          "text": [
            "Archive:  bestbuy.zip\n",
            "  inflating: popular_skus.csv        \n",
            "  inflating: popular_skus.py         \n",
            "  inflating: product_data.tar.gz     \n",
            "  inflating: test.csv                \n",
            "  inflating: train.csv               \n"
          ]
        }
      ]
    },
    {
      "cell_type": "code",
      "source": [
        "from google.colab import drive"
      ],
      "metadata": {
        "id": "baKwV9SRYK3X"
      },
      "execution_count": 4,
      "outputs": []
    },
    {
      "cell_type": "code",
      "source": [
        "drive.mount(\"/content/drive\")"
      ],
      "metadata": {
        "colab": {
          "base_uri": "https://localhost:8080/"
        },
        "id": "Z0PUA0SeYOJy",
        "outputId": "9b17db88-14f7-429d-ec52-21188eeab0da"
      },
      "execution_count": 5,
      "outputs": [
        {
          "output_type": "stream",
          "name": "stdout",
          "text": [
            "Mounted at /content/drive\n"
          ]
        }
      ]
    },
    {
      "cell_type": "code",
      "source": [
        "!gunzip product_data.tar.gz"
      ],
      "metadata": {
        "id": "tOZTLhHuYmmf"
      },
      "execution_count": 6,
      "outputs": []
    },
    {
      "cell_type": "code",
      "source": [
        "!tar xvf product_data.tar"
      ],
      "metadata": {
        "colab": {
          "base_uri": "https://localhost:8080/"
        },
        "id": "y067sYXtY5tB",
        "outputId": "acad69c7-61e1-4043-9dfd-39ed6590904e"
      },
      "execution_count": 7,
      "outputs": [
        {
          "output_type": "stream",
          "name": "stdout",
          "text": [
            "product_data/\n",
            "product_data/categories/\n",
            "product_data/categories/categories_0001_abcat0010000_to_pcmcat99300050000.xml\n",
            "product_data/reviews/\n",
            "product_data/reviews/reviews_0010_1906234_to_2063675.xml\n",
            "product_data/reviews/reviews_0012_2151940_to_2284992.xml\n",
            "product_data/reviews/reviews_0037_6889364_to_6950068.xml\n",
            "product_data/reviews/reviews_0004_501835_to_691133.xml\n",
            "product_data/reviews/reviews_0018_4017769_to_4160192.xml\n",
            "product_data/reviews/reviews_0007_1117796_to_1382936.xml\n",
            "product_data/reviews/reviews_0016_3197161_to_3395314.xml\n",
            "product_data/reviews/reviews_0027_5806868_to_6022633.xml\n",
            "product_data/reviews/reviews_0014_2440655_to_2799035.xml\n",
            "product_data/reviews/reviews_0015_2799189_to_3197154.xml\n",
            "product_data/reviews/reviews_0021_4286995_to_4472320.xml\n",
            "product_data/reviews/reviews_0024_5130266_to_5247642.xml\n",
            "product_data/reviews/reviews_0035_6701490_to_6801194.xml\n",
            "product_data/reviews/reviews_0005_691144_to_831905.xml\n",
            "product_data/reviews/reviews_0022_4472324_to_4833387.xml\n",
            "product_data/reviews/reviews_0023_4833425_to_5130263.xml\n",
            "product_data/reviews/reviews_0011_2063679_to_2151936.xml\n",
            "product_data/reviews/reviews_0017_3395388_to_4017768.xml\n",
            "product_data/reviews/reviews_0003_345248_to_501823.xml\n",
            "product_data/reviews/reviews_0025_5247643_to_5363104.xml\n",
            "product_data/reviews/reviews_0006_831928_to_1117787.xml\n",
            "product_data/reviews/reviews_0020_4209473_to_4286992.xml\n",
            "product_data/reviews/reviews_0045_7736346_to_7762248.xml\n",
            "product_data/reviews/reviews_0043_7479787_to_7610126.xml\n",
            "product_data/reviews/reviews_0036_6801200_to_6889357.xml\n",
            "product_data/reviews/reviews_0041_7269649_to_7387421.xml\n",
            "product_data/reviews/reviews_0019_4160194_to_4209454.xml\n",
            "product_data/reviews/reviews_0030_6358125_to_6396149.xml\n",
            "product_data/reviews/reviews_0040_7198571_to_7269645.xml\n",
            "product_data/reviews/reviews_0026_5363109_to_5806838.xml\n",
            "product_data/reviews/reviews_0044_7610127_to_7736345.xml\n",
            "product_data/reviews/reviews_0028_6022641_to_6172272.xml\n",
            "product_data/reviews/reviews_0033_6486865_to_6587831.xml\n",
            "product_data/reviews/reviews_0001_24122_to_98772.xml\n",
            "product_data/reviews/reviews_0013_2285000_to_2440628.xml\n",
            "product_data/reviews/reviews_0039_7039382_to_7198559.xml\n",
            "product_data/reviews/reviews_0002_98780_to_345240.xml\n",
            "product_data/reviews/reviews_0034_6587839_to_6701463.xml\n",
            "product_data/reviews/reviews_0032_6423025_to_6486864.xml\n",
            "product_data/reviews/reviews_0042_7387427_to_7479780.xml\n",
            "product_data/reviews/reviews_0038_6950072_to_7039369.xml\n",
            "product_data/reviews/reviews_0031_6396154_to_6423017.xml\n",
            "product_data/reviews/reviews_0009_1597878_to_1906168.xml\n",
            "product_data/reviews/reviews_0029_6172275_to_6358111.xml\n",
            "product_data/reviews/reviews_0008_1382981_to_1597862.xml\n",
            "product_data/products/\n",
            "product_data/products/products_0135_12585295_to_12641439.xml\n",
            "product_data/products/products_0154_13954278_to_14012757.xml\n",
            "product_data/products/products_0085_8771938_to_8856419.xml\n",
            "product_data/products/products_0018_2035443_to_2098517.xml\n",
            "product_data/products/products_0045_4230576_to_4326232.xml\n",
            "product_data/products/products_0049_4725587_to_4810643.xml\n",
            "product_data/products/products_0117_11594447_to_11666315.xml\n",
            "product_data/products/products_0127_12146297_to_12201565.xml\n",
            "product_data/products/products_0130_12309664_to_12363186.xml\n",
            "product_data/products/products_0246_20069161_to_20128686.xml\n",
            "product_data/products/products_0236_19379882_to_19452187.xml\n",
            "product_data/products/products_0235_19312288_to_19379873.xml\n",
            "product_data/products/products_0108_10888907_to_10972432.xml\n",
            "product_data/products/products_0183_15706595_to_15778623.xml\n",
            "product_data/products/products_0056_5412252_to_5573998.xml\n",
            "product_data/products/products_0230_18957618_to_19040862.xml\n",
            "product_data/products/products_0115_11436494_to_11514097.xml\n",
            "product_data/products/products_0197_16592224_to_16661284.xml\n",
            "product_data/products/products_0026_2685115_to_2762861.xml\n",
            "product_data/products/products_0217_17990532_to_18069368.xml\n",
            "product_data/products/products_0065_6685928_to_6785115.xml\n",
            "product_data/products/products_0255_9999141300050003_to_9999184200050032.xml\n",
            "product_data/products/products_0068_6976034_to_7062867.xml\n",
            "product_data/products/products_0182_15635699_to_15706586.xml\n",
            "product_data/products/products_0020_2180446_to_2282074.xml\n",
            "product_data/products/products_0120_11768321_to_11821246.xml\n",
            "product_data/products/products_0159_14273724_to_14333777.xml\n",
            "product_data/products/products_0106_10740362_to_10811357.xml\n",
            "product_data/products/products_0176_15282784_to_15339108.xml\n",
            "product_data/products/products_0016_1841154_to_1937676.xml\n",
            "product_data/products/products_0046_4326241_to_4516198.xml\n",
            "product_data/products/products_0219_18138409_to_18197069.xml\n",
            "product_data/products/products_0143_13084146_to_13158058.xml\n",
            "product_data/products/products_0249_20259278_to_20333085.xml\n",
            "product_data/products/products_0054_5196931_to_5288949.xml\n",
            "product_data/products/products_0252_20459355_to_999928600050002.xml\n",
            "product_data/products/products_0042_3952217_to_4040683.xml\n",
            "product_data/products/products_0187_15963147_to_16028923.xml\n",
            "product_data/products/products_0223_18434995_to_18509097.xml\n",
            "product_data/products/products_0224_18509103_to_18587072.xml\n",
            "product_data/products/products_0166_14689973_to_14754722.xml\n",
            "product_data/products/products_0146_13328785_to_13417778.xml\n",
            "product_data/products/products_0227_18733993_to_18807545.xml\n",
            "product_data/products/products_0237_19452196_to_19524448.xml\n",
            "product_data/products/products_0096_9825321_to_9942574.xml\n",
            "product_data/products/products_0061_6089573_to_6167961.xml\n",
            "product_data/products/products_0214_17777005_to_17842836.xml\n",
            "product_data/products/products_0254_999994800050007_to_9999141300050002.xml\n",
            "product_data/products/products_0041_3868528_to_3952208.xml\n",
            "product_data/products/products_0104_10590826_to_10667851.xml\n",
            "product_data/products/products_0059_5929953_to_6014733.xml\n",
            "product_data/products/products_0062_6167989_to_6299917.xml\n",
            "product_data/products/products_0066_6785124_to_6877613.xml\n",
            "product_data/products/products_0089_9123281_to_9216485.xml\n",
            "product_data/products/products_0075_7767767_to_7873009.xml\n",
            "product_data/products/products_0102_10436842_to_10511243.xml\n",
            "product_data/products/products_0180_15514668_to_15571659.xml\n",
            "product_data/products/products_0216_17913402_to_17990523.xml\n",
            "product_data/products/products_0114_11358997_to_11436485.xml\n",
            "product_data/products/products_0023_2459798_to_2537366.xml\n",
            "product_data/products/products_0092_9393373_to_9489038.xml\n",
            "product_data/products/products_0144_13158067_to_13245954.xml\n",
            "product_data/products/products_0034_3328759_to_3408351.xml\n",
            "product_data/products/products_0174_15166918_to_15226006.xml\n",
            "product_data/products/products_0071_7281318_to_7425574.xml\n",
            "product_data/products/products_0232_19108675_to_19176217.xml\n",
            "product_data/products/products_0213_17695905_to_17776998.xml\n",
            "product_data/products/products_0131_12363195_to_12418261.xml\n",
            "product_data/products/products_0091_9305682_to_9393364.xml\n",
            "product_data/products/products_0124_11982535_to_12038831.xml\n",
            "product_data/products/products_0083_8588432_to_8680233.xml\n",
            "product_data/products/products_0072_7425583_to_7565182.xml\n",
            "product_data/products/products_0251_20397415_to_20459346.xml\n",
            "product_data/products/products_0052_4959708_to_5051409.xml\n",
            "product_data/products/products_0043_4040692_to_4133508.xml\n",
            "product_data/products/products_0178_15398366_to_15457578.xml\n",
            "product_data/products/products_0128_12201574_to_12256248.xml\n",
            "product_data/products/products_0051_4879787_to_4959691.xml\n",
            "product_data/products/products_0194_16422248_to_16477787.xml\n",
            "product_data/products/products_0101_10359694_to_10436833.xml\n",
            "product_data/products/products_0029_2914154_to_3002761.xml\n",
            "product_data/products/products_0094_9572839_to_9709324.xml\n",
            "product_data/products/products_0079_8225397_to_8315931.xml\n",
            "product_data/products/products_0107_10811366_to_10888881.xml\n",
            "product_data/products/products_0157_14134901_to_14201829.xml\n",
            "product_data/products/products_0064_6448276_to_6685919.xml\n",
            "product_data/products/products_0084_8680242_to_8771929.xml\n",
            "product_data/products/products_0047_4516223_to_4625542.xml\n",
            "product_data/products/products_0228_18807554_to_18879796.xml\n",
            "product_data/products/products_0145_13245963_to_13328776.xml\n",
            "product_data/products/products_0204_17065293_to_17144323.xml\n",
            "product_data/products/products_0036_3476045_to_3543767.xml\n",
            "product_data/products/products_0190_16164311_to_16238108.xml\n",
            "product_data/products/products_0167_14754731_to_14825692.xml\n",
            "product_data/products/products_0055_5288951_to_5412243.xml\n",
            "product_data/products/products_0248_20193324_to_20259269.xml\n",
            "product_data/products/products_0097_9942583_to_10127329.xml\n",
            "product_data/products/products_0155_14012766_to_14073245.xml\n",
            "product_data/products/products_0011_1304779_to_1387582.xml\n",
            "product_data/products/products_0168_14825709_to_14881826.xml\n",
            "product_data/products/products_0181_15571668_to_15635671.xml\n",
            "product_data/products/products_0053_5051427_to_5196922.xml\n",
            "product_data/products/products_0033_3239757_to_3328731.xml\n",
            "product_data/products/products_0192_16295821_to_16351387.xml\n",
            "product_data/products/products_0129_12256275_to_12309655.xml\n",
            "product_data/products/products_0027_2762943_to_2840956.xml\n",
            "product_data/products/products_0242_19788476_to_19863856.xml\n",
            "product_data/products/products_0121_11821255_to_11872048.xml\n",
            "product_data/products/products_0069_7062876_to_7193262.xml\n",
            "product_data/products/products_0019_2098526_to_2180438.xml\n",
            "product_data/products/products_0136_12641448_to_12694701.xml\n",
            "product_data/products/products_0035_3408360_to_3476039.xml\n",
            "product_data/products/products_0087_8944798_to_9037801.xml\n",
            "product_data/products/products_0014_1572108_to_1742733.xml\n",
            "product_data/products/products_0074_7675401_to_7767749.xml\n",
            "product_data/products/products_0038_3618062_to_3691856.xml\n",
            "product_data/products/products_0234_19241696_to_19312279.xml\n",
            "product_data/products/products_0058_5749951_to_5929944.xml\n",
            "product_data/products/products_0067_6877702_to_6976025.xml\n",
            "product_data/products/products_0050_4810661_to_4879784.xml\n",
            "product_data/products/products_0202_16928194_to_16996609.xml\n",
            "product_data/products/products_0105_10667904_to_10740353.xml\n",
            "product_data/products/products_0164_14567104_to_14626639.xml\n",
            "product_data/products/products_0212_17616037_to_17695898.xml\n",
            "product_data/products/products_0147_13417787_to_13491018.xml\n",
            "product_data/products/products_0132_12418271_to_12472121.xml\n",
            "product_data/products/products_0032_3150850_to_3239748.xml\n",
            "product_data/products/products_0253_999928700050000_to_999994800050006.xml\n",
            "product_data/products/products_0162_14450603_to_14508213.xml\n",
            "product_data/products/products_0243_19863865_to_19939021.xml\n",
            "product_data/products/products_0113_11280712_to_11358988.xml\n",
            "product_data/products/products_0012_1387591_to_1471909.xml\n",
            "product_data/products/products_0218_18069377_to_18138392.xml\n",
            "product_data/products/products_0025_2610464_to_2685106.xml\n",
            "product_data/products/products_0199_16725484_to_16792222.xml\n",
            "product_data/products/products_0173_15110256_to_15166909.xml\n",
            "product_data/products/products_0171_14997042_to_15053763.xml\n",
            "product_data/products/products_0009_1156156_to_1230126.xml\n",
            "product_data/products/products_0028_2840965_to_2914145.xml\n",
            "product_data/products/products_0239_19595739_to_19657975.xml\n",
            "product_data/products/products_0203_16996618_to_17065284.xml\n",
            "product_data/products/products_0010_1230144_to_1304774.xml\n",
            "product_data/products/products_0169_14881835_to_14939034.xml\n",
            "product_data/products/products_0179_15457587_to_15514659.xml\n",
            "product_data/products/products_0247_20128695_to_20193315.xml\n",
            "product_data/products/products_0003_518229_to_606384.xml\n",
            "product_data/products/products_0133_12472139_to_12528669.xml\n",
            "product_data/products/products_0188_16028932_to_16101086.xml\n",
            "product_data/products/products_0112_11203235_to_11280696.xml\n",
            "product_data/products/products_0076_7873018_to_7969638.xml\n",
            "product_data/products/products_0088_9037829_to_9123272.xml\n",
            "product_data/products/products_0063_6299926_to_6448267.xml\n",
            "product_data/products/products_0215_17842845_to_17913395.xml\n",
            "product_data/products/products_0015_1742742_to_1841136.xml\n",
            "product_data/products/products_0195_16477796_to_16533333.xml\n",
            "product_data/products/products_0040_3781991_to_3868519.xml\n",
            "product_data/products/products_0070_7193271_to_7281309.xml\n",
            "product_data/products/products_0238_19524457_to_19595711.xml\n",
            "product_data/products/products_0170_14939043_to_14997033.xml\n",
            "product_data/products/products_0158_14201838_to_14273715.xml\n",
            "product_data/products/products_0110_11054235_to_11127345.xml\n",
            "product_data/products/products_0007_1002897_to_1067124.xml\n",
            "product_data/products/products_0021_2282078_to_2380024.xml\n",
            "product_data/products/products_0122_11872057_to_11922459.xml\n",
            "product_data/products/products_0109_10972441_to_11054226.xml\n",
            "product_data/products/products_0209_17399325_to_17465752.xml\n",
            "product_data/products/products_0139_12810595_to_12867953.xml\n",
            "product_data/products/products_0048_4625551_to_4725585.xml\n",
            "product_data/products/products_0207_17270579_to_17335288.xml\n",
            "product_data/products/products_0201_16862502_to_16928185.xml\n",
            "product_data/products/products_0210_17465761_to_17538942.xml\n",
            "product_data/products/products_0256_9999184200050033_to_9999186400050044.xml\n",
            "product_data/products/products_0082_8498486_to_8588414.xml\n",
            "product_data/products/products_0142_13024309_to_13084137.xml\n",
            "product_data/products/products_0172_15053772_to_15110247.xml\n",
            "product_data/products/products_0125_12038841_to_12092381.xml\n",
            "product_data/products/products_0208_17335297_to_17399316.xml\n",
            "product_data/products/products_0005_722800_to_846222.xml\n",
            "product_data/products/products_0086_8856428_to_8944789.xml\n",
            "product_data/products/products_0008_1067160_to_1156147.xml\n",
            "product_data/products/products_0078_8107452_to_8225388.xml\n",
            "product_data/products/products_0001_2570_to_430420.xml\n",
            "product_data/products/products_0099_10203969_to_10281018.xml\n",
            "product_data/products/products_0090_9216494_to_9305673.xml\n",
            "product_data/products/products_0103_10511252_to_10590817.xml\n",
            "product_data/products/products_0093_9489047_to_9572811.xml\n",
            "product_data/products/products_0231_19040871_to_19108666.xml\n",
            "product_data/products/products_0152_13821206_to_13890186.xml\n",
            "product_data/products/products_0189_16101095_to_16164302.xml\n",
            "product_data/products/products_0141_12951273_to_13024292.xml\n",
            "product_data/products/products_0220_18197078_to_18274272.xml\n",
            "product_data/products/products_0013_1471918_to_1572104.xml\n",
            "product_data/products/products_0057_5574014_to_5749942.xml\n",
            "product_data/products/products_0116_11514104_to_11594438.xml\n",
            "product_data/products/products_0160_14333786_to_14393578.xml\n",
            "product_data/products/products_0193_16351396_to_16422239.xml\n",
            "product_data/products/products_0150_13646904_to_13735238.xml\n",
            "product_data/products/products_0002_430439_to_518210.xml\n",
            "product_data/products/products_0126_12092399_to_12146288.xml\n",
            "product_data/products/products_0233_19176226_to_19241687.xml\n",
            "product_data/products/products_0123_11922468_to_11982526.xml\n",
            "product_data/products/products_0250_20333094_to_20397406.xml\n",
            "product_data/products/products_0222_18353936_to_18434986.xml\n",
            "product_data/products/products_0077_7969647_to_8107443.xml\n",
            "product_data/products/products_0060_6014751_to_6089564.xml\n",
            "product_data/products/products_0134_12528678_to_12585286.xml\n",
            "product_data/products/products_0196_16533342_to_16592215.xml\n",
            "product_data/products/products_0006_846231_to_1002890.xml\n",
            "product_data/products/products_0244_19939049_to_20004526.xml\n",
            "product_data/products/products_0037_3543776_to_3618053.xml\n",
            "product_data/products/products_0245_20004535_to_20069152.xml\n",
            "product_data/products/products_0229_18879805_to_18957609.xml\n",
            "product_data/products/products_0226_18658629_to_18733984.xml\n",
            "product_data/products/products_0022_2380033_to_2459734.xml\n",
            "product_data/products/products_0039_3691865_to_3781982.xml\n",
            "product_data/products/products_0100_10281045_to_10359676.xml\n",
            "product_data/products/products_0149_13563477_to_13646897.xml\n",
            "product_data/products/products_0177_15339117_to_15398357.xml\n",
            "product_data/products/products_0191_16238796_to_16295812.xml\n",
            "product_data/products/products_0080_8315959_to_8400517.xml\n",
            "product_data/products/products_0163_14508222_to_14567097.xml\n",
            "product_data/products/products_0151_13735247_to_13821199.xml\n",
            "product_data/products/products_0211_17538951_to_17616028.xml\n",
            "product_data/products/products_0184_15778632_to_15842484.xml\n",
            "product_data/products/products_0118_11666324_to_11716645.xml\n",
            "product_data/products/products_0161_14393587_to_14450596.xml\n",
            "product_data/products/products_0073_7565379_to_7675367.xml\n",
            "product_data/products/products_0017_1937685_to_2035434.xml\n",
            "product_data/products/products_0185_15842493_to_15902472.xml\n",
            "product_data/products/products_0148_13491027_to_13563468.xml\n",
            "product_data/products/products_0095_9709333_to_9825279.xml\n",
            "product_data/products/products_0205_17144332_to_17207023.xml\n",
            "product_data/products/products_0081_8400544_to_8498477.xml\n",
            "product_data/products/products_0206_17207032_to_17270551.xml\n",
            "product_data/products/products_0153_13890195_to_13954269.xml\n",
            "product_data/products/products_0225_18587081_to_18658601.xml\n",
            "product_data/products/products_0031_3080150_to_3150841.xml\n",
            "product_data/products/products_0098_10127365_to_10203898.xml\n",
            "product_data/products/products_0241_19720168_to_19788467.xml\n",
            "product_data/products/products_0030_3002770_to_3080141.xml\n",
            "product_data/products/products_0200_16792231_to_16862496.xml\n",
            "product_data/products/products_0119_11716654_to_11768312.xml\n",
            "product_data/products/products_0186_15902481_to_15963138.xml\n",
            "product_data/products/products_0140_12867962_to_12951264.xml\n",
            "product_data/products/products_0221_18274281_to_18353927.xml\n",
            "product_data/products/products_0240_19657984_to_19720159.xml\n",
            "product_data/products/products_0024_2537375_to_2610448.xml\n",
            "product_data/products/products_0165_14626648_to_14689964.xml\n",
            "product_data/products/products_0175_15226015_to_15282775.xml\n",
            "product_data/products/products_0004_606428_to_722720.xml\n",
            "product_data/products/products_0198_16661293_to_16725475.xml\n",
            "product_data/products/products_0156_14073254_to_14134894.xml\n",
            "product_data/products/products_0111_11127354_to_11203208.xml\n",
            "product_data/products/products_0137_12694711_to_12748814.xml\n",
            "product_data/products/products_0044_4133529_to_4230558.xml\n",
            "product_data/products/products_0138_12748823_to_12810586.xml\n"
          ]
        }
      ]
    },
    {
      "cell_type": "code",
      "source": [
        "!cp train.csv /content/drive/MyDrive/bestbuy"
      ],
      "metadata": {
        "id": "xcfQ-do_ZUU4"
      },
      "execution_count": 10,
      "outputs": []
    },
    {
      "cell_type": "code",
      "source": [
        "!cp test.csv /content/drive/MyDrive/bestbuy"
      ],
      "metadata": {
        "id": "1ogDCSsfZ2MY"
      },
      "execution_count": 11,
      "outputs": []
    },
    {
      "cell_type": "code",
      "source": [
        "!cp popular_skus.csv /content/drive/MyDrive/bestbuy"
      ],
      "metadata": {
        "id": "ezhpg8mqZ5Fz"
      },
      "execution_count": 12,
      "outputs": []
    },
    {
      "cell_type": "code",
      "source": [
        "!mv product_data /content/drive/MyDrive/bestbuy"
      ],
      "metadata": {
        "id": "AADCQXXRZ-YW"
      },
      "execution_count": 13,
      "outputs": []
    },
    {
      "cell_type": "code",
      "source": [
        "!ls /content/drive/MyDrive/bestbuy/product_data/categories"
      ],
      "metadata": {
        "colab": {
          "base_uri": "https://localhost:8080/"
        },
        "id": "2QE3_uzYaFqb",
        "outputId": "4d8f47a1-03c0-4c2c-b92b-361f067c23d6"
      },
      "execution_count": 14,
      "outputs": [
        {
          "output_type": "stream",
          "name": "stdout",
          "text": [
            "categories_0001_abcat0010000_to_pcmcat99300050000.xml\n"
          ]
        }
      ]
    },
    {
      "cell_type": "code",
      "source": [
        "import pandas as pd"
      ],
      "metadata": {
        "id": "6v8VwUGYabK6"
      },
      "execution_count": 15,
      "outputs": []
    },
    {
      "cell_type": "code",
      "source": [
        "cat_from_xml = pd.read_xml(\"/content/drive/MyDrive/bestbuy/product_data/categories/categories_0001_abcat0010000_to_pcmcat99300050000.xml\")"
      ],
      "metadata": {
        "id": "FcKbqzYCafwX"
      },
      "execution_count": 16,
      "outputs": []
    },
    {
      "cell_type": "code",
      "source": [
        "import xml.etree.cElementTree as et\n",
        "from xml.etree import ElementTree"
      ],
      "metadata": {
        "id": "BsyDLbk0ajGY"
      },
      "execution_count": 17,
      "outputs": []
    },
    {
      "cell_type": "code",
      "source": [
        "cat_file = \"categories_0001_abcat0010000_to_pcmcat99300050000.xml\"\n",
        "tree: ElementTree = et.parse(f\"/content/drive/MyDrive/bestbuy/product_data/categories/{cat_file}\")"
      ],
      "metadata": {
        "id": "GQ2KgeU3amXj"
      },
      "execution_count": 18,
      "outputs": []
    },
    {
      "cell_type": "code",
      "source": [
        "root = tree.getroot()\n",
        "\n",
        "for node in root.findall(\"./category/path/category/[id='cat00000']\"):\n",
        "    print(node.findall(\"./name\")[0].text)\n",
        "    break"
      ],
      "metadata": {
        "colab": {
          "base_uri": "https://localhost:8080/"
        },
        "id": "TQM6pxVeaqOQ",
        "outputId": "32d25a5c-1e03-488e-87de-def2c9b294a4"
      },
      "execution_count": 19,
      "outputs": [
        {
          "output_type": "stream",
          "name": "stdout",
          "text": [
            "Best Buy\n"
          ]
        }
      ]
    },
    {
      "cell_type": "code",
      "source": [
        "cat_from_xml.loc[0:100]"
      ],
      "metadata": {
        "colab": {
          "base_uri": "https://localhost:8080/",
          "height": 424
        },
        "id": "94Es1tKOat0x",
        "outputId": "1b13a9f7-e09c-4319-ab35-844d9e19a63e"
      },
      "execution_count": 25,
      "outputs": [
        {
          "output_type": "execute_result",
          "data": {
            "text/plain": [
              "               id                             name  path  subCategories\n",
              "0    abcat0010000                      Gift Center   NaN            NaN\n",
              "1    abcat0011000                              Her   NaN            NaN\n",
              "2    abcat0011001                    Leisure Gifts   NaN            NaN\n",
              "3    abcat0011002               Kitchen Essentials   NaN            NaN\n",
              "4    abcat0011003                      Electronics   NaN            NaN\n",
              "..            ...                              ...   ...            ...\n",
              "96   abcat0107032                Speaker Switchers   NaN            NaN\n",
              "97   abcat0107033                 Subwoofer Cables   NaN            NaN\n",
              "98   abcat0107034       TV & Media Cleaning & Care   NaN            NaN\n",
              "99   abcat0107035    CD & DVD Cleaners & Repairers   NaN            NaN\n",
              "100  abcat0107036  TV Screen Protectors & Cleaners   NaN            NaN\n",
              "\n",
              "[101 rows x 4 columns]"
            ],
            "text/html": [
              "\n",
              "  <div id=\"df-ebae4179-52a1-4086-928c-55c6cf243a9a\">\n",
              "    <div class=\"colab-df-container\">\n",
              "      <div>\n",
              "<style scoped>\n",
              "    .dataframe tbody tr th:only-of-type {\n",
              "        vertical-align: middle;\n",
              "    }\n",
              "\n",
              "    .dataframe tbody tr th {\n",
              "        vertical-align: top;\n",
              "    }\n",
              "\n",
              "    .dataframe thead th {\n",
              "        text-align: right;\n",
              "    }\n",
              "</style>\n",
              "<table border=\"1\" class=\"dataframe\">\n",
              "  <thead>\n",
              "    <tr style=\"text-align: right;\">\n",
              "      <th></th>\n",
              "      <th>id</th>\n",
              "      <th>name</th>\n",
              "      <th>path</th>\n",
              "      <th>subCategories</th>\n",
              "    </tr>\n",
              "  </thead>\n",
              "  <tbody>\n",
              "    <tr>\n",
              "      <th>0</th>\n",
              "      <td>abcat0010000</td>\n",
              "      <td>Gift Center</td>\n",
              "      <td>NaN</td>\n",
              "      <td>NaN</td>\n",
              "    </tr>\n",
              "    <tr>\n",
              "      <th>1</th>\n",
              "      <td>abcat0011000</td>\n",
              "      <td>Her</td>\n",
              "      <td>NaN</td>\n",
              "      <td>NaN</td>\n",
              "    </tr>\n",
              "    <tr>\n",
              "      <th>2</th>\n",
              "      <td>abcat0011001</td>\n",
              "      <td>Leisure Gifts</td>\n",
              "      <td>NaN</td>\n",
              "      <td>NaN</td>\n",
              "    </tr>\n",
              "    <tr>\n",
              "      <th>3</th>\n",
              "      <td>abcat0011002</td>\n",
              "      <td>Kitchen Essentials</td>\n",
              "      <td>NaN</td>\n",
              "      <td>NaN</td>\n",
              "    </tr>\n",
              "    <tr>\n",
              "      <th>4</th>\n",
              "      <td>abcat0011003</td>\n",
              "      <td>Electronics</td>\n",
              "      <td>NaN</td>\n",
              "      <td>NaN</td>\n",
              "    </tr>\n",
              "    <tr>\n",
              "      <th>...</th>\n",
              "      <td>...</td>\n",
              "      <td>...</td>\n",
              "      <td>...</td>\n",
              "      <td>...</td>\n",
              "    </tr>\n",
              "    <tr>\n",
              "      <th>96</th>\n",
              "      <td>abcat0107032</td>\n",
              "      <td>Speaker Switchers</td>\n",
              "      <td>NaN</td>\n",
              "      <td>NaN</td>\n",
              "    </tr>\n",
              "    <tr>\n",
              "      <th>97</th>\n",
              "      <td>abcat0107033</td>\n",
              "      <td>Subwoofer Cables</td>\n",
              "      <td>NaN</td>\n",
              "      <td>NaN</td>\n",
              "    </tr>\n",
              "    <tr>\n",
              "      <th>98</th>\n",
              "      <td>abcat0107034</td>\n",
              "      <td>TV &amp; Media Cleaning &amp; Care</td>\n",
              "      <td>NaN</td>\n",
              "      <td>NaN</td>\n",
              "    </tr>\n",
              "    <tr>\n",
              "      <th>99</th>\n",
              "      <td>abcat0107035</td>\n",
              "      <td>CD &amp; DVD Cleaners &amp; Repairers</td>\n",
              "      <td>NaN</td>\n",
              "      <td>NaN</td>\n",
              "    </tr>\n",
              "    <tr>\n",
              "      <th>100</th>\n",
              "      <td>abcat0107036</td>\n",
              "      <td>TV Screen Protectors &amp; Cleaners</td>\n",
              "      <td>NaN</td>\n",
              "      <td>NaN</td>\n",
              "    </tr>\n",
              "  </tbody>\n",
              "</table>\n",
              "<p>101 rows × 4 columns</p>\n",
              "</div>\n",
              "      <button class=\"colab-df-convert\" onclick=\"convertToInteractive('df-ebae4179-52a1-4086-928c-55c6cf243a9a')\"\n",
              "              title=\"Convert this dataframe to an interactive table.\"\n",
              "              style=\"display:none;\">\n",
              "        \n",
              "  <svg xmlns=\"http://www.w3.org/2000/svg\" height=\"24px\"viewBox=\"0 0 24 24\"\n",
              "       width=\"24px\">\n",
              "    <path d=\"M0 0h24v24H0V0z\" fill=\"none\"/>\n",
              "    <path d=\"M18.56 5.44l.94 2.06.94-2.06 2.06-.94-2.06-.94-.94-2.06-.94 2.06-2.06.94zm-11 1L8.5 8.5l.94-2.06 2.06-.94-2.06-.94L8.5 2.5l-.94 2.06-2.06.94zm10 10l.94 2.06.94-2.06 2.06-.94-2.06-.94-.94-2.06-.94 2.06-2.06.94z\"/><path d=\"M17.41 7.96l-1.37-1.37c-.4-.4-.92-.59-1.43-.59-.52 0-1.04.2-1.43.59L10.3 9.45l-7.72 7.72c-.78.78-.78 2.05 0 2.83L4 21.41c.39.39.9.59 1.41.59.51 0 1.02-.2 1.41-.59l7.78-7.78 2.81-2.81c.8-.78.8-2.07 0-2.86zM5.41 20L4 18.59l7.72-7.72 1.47 1.35L5.41 20z\"/>\n",
              "  </svg>\n",
              "      </button>\n",
              "      \n",
              "  <style>\n",
              "    .colab-df-container {\n",
              "      display:flex;\n",
              "      flex-wrap:wrap;\n",
              "      gap: 12px;\n",
              "    }\n",
              "\n",
              "    .colab-df-convert {\n",
              "      background-color: #E8F0FE;\n",
              "      border: none;\n",
              "      border-radius: 50%;\n",
              "      cursor: pointer;\n",
              "      display: none;\n",
              "      fill: #1967D2;\n",
              "      height: 32px;\n",
              "      padding: 0 0 0 0;\n",
              "      width: 32px;\n",
              "    }\n",
              "\n",
              "    .colab-df-convert:hover {\n",
              "      background-color: #E2EBFA;\n",
              "      box-shadow: 0px 1px 2px rgba(60, 64, 67, 0.3), 0px 1px 3px 1px rgba(60, 64, 67, 0.15);\n",
              "      fill: #174EA6;\n",
              "    }\n",
              "\n",
              "    [theme=dark] .colab-df-convert {\n",
              "      background-color: #3B4455;\n",
              "      fill: #D2E3FC;\n",
              "    }\n",
              "\n",
              "    [theme=dark] .colab-df-convert:hover {\n",
              "      background-color: #434B5C;\n",
              "      box-shadow: 0px 1px 3px 1px rgba(0, 0, 0, 0.15);\n",
              "      filter: drop-shadow(0px 1px 2px rgba(0, 0, 0, 0.3));\n",
              "      fill: #FFFFFF;\n",
              "    }\n",
              "  </style>\n",
              "\n",
              "      <script>\n",
              "        const buttonEl =\n",
              "          document.querySelector('#df-ebae4179-52a1-4086-928c-55c6cf243a9a button.colab-df-convert');\n",
              "        buttonEl.style.display =\n",
              "          google.colab.kernel.accessAllowed ? 'block' : 'none';\n",
              "\n",
              "        async function convertToInteractive(key) {\n",
              "          const element = document.querySelector('#df-ebae4179-52a1-4086-928c-55c6cf243a9a');\n",
              "          const dataTable =\n",
              "            await google.colab.kernel.invokeFunction('convertToInteractive',\n",
              "                                                     [key], {});\n",
              "          if (!dataTable) return;\n",
              "\n",
              "          const docLinkHtml = 'Like what you see? Visit the ' +\n",
              "            '<a target=\"_blank\" href=https://colab.research.google.com/notebooks/data_table.ipynb>data table notebook</a>'\n",
              "            + ' to learn more about interactive tables.';\n",
              "          element.innerHTML = '';\n",
              "          dataTable['output_type'] = 'display_data';\n",
              "          await google.colab.output.renderOutput(dataTable, element);\n",
              "          const docLink = document.createElement('div');\n",
              "          docLink.innerHTML = docLinkHtml;\n",
              "          element.appendChild(docLink);\n",
              "        }\n",
              "      </script>\n",
              "    </div>\n",
              "  </div>\n",
              "  "
            ]
          },
          "metadata": {},
          "execution_count": 25
        }
      ]
    },
    {
      "cell_type": "code",
      "source": [
        "!head train.csv -n 3"
      ],
      "metadata": {
        "colab": {
          "base_uri": "https://localhost:8080/"
        },
        "id": "HdJB3cWlbL2U",
        "outputId": "92e48cd4-6345-4b5e-c44a-700126c654d1"
      },
      "execution_count": 26,
      "outputs": [
        {
          "output_type": "stream",
          "name": "stdout",
          "text": [
            "user,sku,category,query,click_time,query_time\r\n",
            "000000df17cd56a5df4a94074e133c9d4739fae3,2125233,abcat0101001,\"Televisiones Panasonic  50 pulgadas\",\"2011-09-01 23:44:52.533\",\"2011-09-01 23:43:59.752\"\r\n",
            "000001928162247ffaf63185cd8b2a244c78e7c6,2009324,abcat0101001,Sharp,\"2011-09-05 12:25:37.42\",\"2011-09-05 12:25:01.187\"\r\n"
          ]
        }
      ]
    },
    {
      "cell_type": "code",
      "source": [
        "!cat train.csv | cut -f 3 -d ',' | sort | uniq -c | sort -n -r -k 1 | head"
      ],
      "metadata": {
        "colab": {
          "base_uri": "https://localhost:8080/"
        },
        "id": "zwYzOEl5bPXR",
        "outputId": "97f7da4e-9140-4ac8-89d5-8cb957e5d7af"
      },
      "execution_count": 27,
      "outputs": [
        {
          "output_type": "stream",
          "name": "stdout",
          "text": [
            " 177638 cat02015\n",
            "  80213 abcat0101001\n",
            "  79245 pcmcat247400050000\n",
            "  74258 pcmcat209000050008\n",
            "  43991 pcmcat144700050004\n",
            "  39682 pcmcat209400050001\n",
            "  29809 abcat0703002\n",
            "  27458 pcmcat247400050001\n",
            "  25807 abcat0201011\n",
            "  25132 pcmcat209000050007\n"
          ]
        }
      ]
    },
    {
      "cell_type": "code",
      "source": [
        "import pandas as pd"
      ],
      "metadata": {
        "id": "8ko-NQ-fcHNi"
      },
      "execution_count": 28,
      "outputs": []
    },
    {
      "cell_type": "code",
      "source": [
        "train = pd.read_csv(\"train.csv\", parse_dates=[\"click_time\", \"query_time\"])\n",
        "train.size"
      ],
      "metadata": {
        "colab": {
          "base_uri": "https://localhost:8080/"
        },
        "id": "ZIJkoAHCcJtt",
        "outputId": "d0b4d614-cb28-476a-b007-3d9dabfca00e"
      },
      "execution_count": 29,
      "outputs": [
        {
          "output_type": "execute_result",
          "data": {
            "text/plain": [
              "11191614"
            ]
          },
          "metadata": {},
          "execution_count": 29
        }
      ]
    },
    {
      "cell_type": "code",
      "source": [
        "len(train)"
      ],
      "metadata": {
        "colab": {
          "base_uri": "https://localhost:8080/"
        },
        "id": "0ZSMTmyHcQKI",
        "outputId": "2899a4a7-e1ff-45b1-ec1c-7b33474b3da4"
      },
      "execution_count": 30,
      "outputs": [
        {
          "output_type": "execute_result",
          "data": {
            "text/plain": [
              "1865269"
            ]
          },
          "metadata": {},
          "execution_count": 30
        }
      ]
    },
    {
      "cell_type": "code",
      "source": [
        "train.loc[0:4]"
      ],
      "metadata": {
        "colab": {
          "base_uri": "https://localhost:8080/",
          "height": 206
        },
        "id": "a2i99v_ecSjP",
        "outputId": "dd5fd1d0-fc87-46b4-e0e6-539d9046acc5"
      },
      "execution_count": 31,
      "outputs": [
        {
          "output_type": "execute_result",
          "data": {
            "text/plain": [
              "                                       user      sku            category  \\\n",
              "0  000000df17cd56a5df4a94074e133c9d4739fae3  2125233        abcat0101001   \n",
              "1  000001928162247ffaf63185cd8b2a244c78e7c6  2009324        abcat0101001   \n",
              "2  000017f79c2b5da56721f22f9fdd726b13daf8e8  1517163  pcmcat193100050014   \n",
              "3  000017f79c2b5da56721f22f9fdd726b13daf8e8  2877125        abcat0101001   \n",
              "4  000017f79c2b5da56721f22f9fdd726b13daf8e8  2877134        abcat0101005   \n",
              "\n",
              "                                 query              click_time  \\\n",
              "0  Televisiones Panasonic  50 pulgadas 2011-09-01 23:44:52.533   \n",
              "1                                Sharp 2011-09-05 12:25:37.420   \n",
              "2                                 nook 2011-08-24 12:56:58.910   \n",
              "3                                  rca 2011-10-25 07:18:14.722   \n",
              "4                                  rca 2011-10-25 07:19:51.697   \n",
              "\n",
              "               query_time  \n",
              "0 2011-09-01 23:43:59.752  \n",
              "1 2011-09-05 12:25:01.187  \n",
              "2 2011-08-24 12:55:13.012  \n",
              "3 2011-10-25 07:16:51.759  \n",
              "4 2011-10-25 07:16:51.759  "
            ],
            "text/html": [
              "\n",
              "  <div id=\"df-dd9f202c-1ee7-48d7-91ae-4e29893f68cf\">\n",
              "    <div class=\"colab-df-container\">\n",
              "      <div>\n",
              "<style scoped>\n",
              "    .dataframe tbody tr th:only-of-type {\n",
              "        vertical-align: middle;\n",
              "    }\n",
              "\n",
              "    .dataframe tbody tr th {\n",
              "        vertical-align: top;\n",
              "    }\n",
              "\n",
              "    .dataframe thead th {\n",
              "        text-align: right;\n",
              "    }\n",
              "</style>\n",
              "<table border=\"1\" class=\"dataframe\">\n",
              "  <thead>\n",
              "    <tr style=\"text-align: right;\">\n",
              "      <th></th>\n",
              "      <th>user</th>\n",
              "      <th>sku</th>\n",
              "      <th>category</th>\n",
              "      <th>query</th>\n",
              "      <th>click_time</th>\n",
              "      <th>query_time</th>\n",
              "    </tr>\n",
              "  </thead>\n",
              "  <tbody>\n",
              "    <tr>\n",
              "      <th>0</th>\n",
              "      <td>000000df17cd56a5df4a94074e133c9d4739fae3</td>\n",
              "      <td>2125233</td>\n",
              "      <td>abcat0101001</td>\n",
              "      <td>Televisiones Panasonic  50 pulgadas</td>\n",
              "      <td>2011-09-01 23:44:52.533</td>\n",
              "      <td>2011-09-01 23:43:59.752</td>\n",
              "    </tr>\n",
              "    <tr>\n",
              "      <th>1</th>\n",
              "      <td>000001928162247ffaf63185cd8b2a244c78e7c6</td>\n",
              "      <td>2009324</td>\n",
              "      <td>abcat0101001</td>\n",
              "      <td>Sharp</td>\n",
              "      <td>2011-09-05 12:25:37.420</td>\n",
              "      <td>2011-09-05 12:25:01.187</td>\n",
              "    </tr>\n",
              "    <tr>\n",
              "      <th>2</th>\n",
              "      <td>000017f79c2b5da56721f22f9fdd726b13daf8e8</td>\n",
              "      <td>1517163</td>\n",
              "      <td>pcmcat193100050014</td>\n",
              "      <td>nook</td>\n",
              "      <td>2011-08-24 12:56:58.910</td>\n",
              "      <td>2011-08-24 12:55:13.012</td>\n",
              "    </tr>\n",
              "    <tr>\n",
              "      <th>3</th>\n",
              "      <td>000017f79c2b5da56721f22f9fdd726b13daf8e8</td>\n",
              "      <td>2877125</td>\n",
              "      <td>abcat0101001</td>\n",
              "      <td>rca</td>\n",
              "      <td>2011-10-25 07:18:14.722</td>\n",
              "      <td>2011-10-25 07:16:51.759</td>\n",
              "    </tr>\n",
              "    <tr>\n",
              "      <th>4</th>\n",
              "      <td>000017f79c2b5da56721f22f9fdd726b13daf8e8</td>\n",
              "      <td>2877134</td>\n",
              "      <td>abcat0101005</td>\n",
              "      <td>rca</td>\n",
              "      <td>2011-10-25 07:19:51.697</td>\n",
              "      <td>2011-10-25 07:16:51.759</td>\n",
              "    </tr>\n",
              "  </tbody>\n",
              "</table>\n",
              "</div>\n",
              "      <button class=\"colab-df-convert\" onclick=\"convertToInteractive('df-dd9f202c-1ee7-48d7-91ae-4e29893f68cf')\"\n",
              "              title=\"Convert this dataframe to an interactive table.\"\n",
              "              style=\"display:none;\">\n",
              "        \n",
              "  <svg xmlns=\"http://www.w3.org/2000/svg\" height=\"24px\"viewBox=\"0 0 24 24\"\n",
              "       width=\"24px\">\n",
              "    <path d=\"M0 0h24v24H0V0z\" fill=\"none\"/>\n",
              "    <path d=\"M18.56 5.44l.94 2.06.94-2.06 2.06-.94-2.06-.94-.94-2.06-.94 2.06-2.06.94zm-11 1L8.5 8.5l.94-2.06 2.06-.94-2.06-.94L8.5 2.5l-.94 2.06-2.06.94zm10 10l.94 2.06.94-2.06 2.06-.94-2.06-.94-.94-2.06-.94 2.06-2.06.94z\"/><path d=\"M17.41 7.96l-1.37-1.37c-.4-.4-.92-.59-1.43-.59-.52 0-1.04.2-1.43.59L10.3 9.45l-7.72 7.72c-.78.78-.78 2.05 0 2.83L4 21.41c.39.39.9.59 1.41.59.51 0 1.02-.2 1.41-.59l7.78-7.78 2.81-2.81c.8-.78.8-2.07 0-2.86zM5.41 20L4 18.59l7.72-7.72 1.47 1.35L5.41 20z\"/>\n",
              "  </svg>\n",
              "      </button>\n",
              "      \n",
              "  <style>\n",
              "    .colab-df-container {\n",
              "      display:flex;\n",
              "      flex-wrap:wrap;\n",
              "      gap: 12px;\n",
              "    }\n",
              "\n",
              "    .colab-df-convert {\n",
              "      background-color: #E8F0FE;\n",
              "      border: none;\n",
              "      border-radius: 50%;\n",
              "      cursor: pointer;\n",
              "      display: none;\n",
              "      fill: #1967D2;\n",
              "      height: 32px;\n",
              "      padding: 0 0 0 0;\n",
              "      width: 32px;\n",
              "    }\n",
              "\n",
              "    .colab-df-convert:hover {\n",
              "      background-color: #E2EBFA;\n",
              "      box-shadow: 0px 1px 2px rgba(60, 64, 67, 0.3), 0px 1px 3px 1px rgba(60, 64, 67, 0.15);\n",
              "      fill: #174EA6;\n",
              "    }\n",
              "\n",
              "    [theme=dark] .colab-df-convert {\n",
              "      background-color: #3B4455;\n",
              "      fill: #D2E3FC;\n",
              "    }\n",
              "\n",
              "    [theme=dark] .colab-df-convert:hover {\n",
              "      background-color: #434B5C;\n",
              "      box-shadow: 0px 1px 3px 1px rgba(0, 0, 0, 0.15);\n",
              "      filter: drop-shadow(0px 1px 2px rgba(0, 0, 0, 0.3));\n",
              "      fill: #FFFFFF;\n",
              "    }\n",
              "  </style>\n",
              "\n",
              "      <script>\n",
              "        const buttonEl =\n",
              "          document.querySelector('#df-dd9f202c-1ee7-48d7-91ae-4e29893f68cf button.colab-df-convert');\n",
              "        buttonEl.style.display =\n",
              "          google.colab.kernel.accessAllowed ? 'block' : 'none';\n",
              "\n",
              "        async function convertToInteractive(key) {\n",
              "          const element = document.querySelector('#df-dd9f202c-1ee7-48d7-91ae-4e29893f68cf');\n",
              "          const dataTable =\n",
              "            await google.colab.kernel.invokeFunction('convertToInteractive',\n",
              "                                                     [key], {});\n",
              "          if (!dataTable) return;\n",
              "\n",
              "          const docLinkHtml = 'Like what you see? Visit the ' +\n",
              "            '<a target=\"_blank\" href=https://colab.research.google.com/notebooks/data_table.ipynb>data table notebook</a>'\n",
              "            + ' to learn more about interactive tables.';\n",
              "          element.innerHTML = '';\n",
              "          dataTable['output_type'] = 'display_data';\n",
              "          await google.colab.output.renderOutput(dataTable, element);\n",
              "          const docLink = document.createElement('div');\n",
              "          docLink.innerHTML = docLinkHtml;\n",
              "          element.appendChild(docLink);\n",
              "        }\n",
              "      </script>\n",
              "    </div>\n",
              "  </div>\n",
              "  "
            ]
          },
          "metadata": {},
          "execution_count": 31
        }
      ]
    },
    {
      "cell_type": "code",
      "source": [
        "train['time_diff'] = train['click_time'] - train['query_time']"
      ],
      "metadata": {
        "id": "xS-AQTXPcUyx"
      },
      "execution_count": 32,
      "outputs": []
    },
    {
      "cell_type": "code",
      "source": [
        "train.loc[0:4]"
      ],
      "metadata": {
        "colab": {
          "base_uri": "https://localhost:8080/",
          "height": 250
        },
        "id": "bFefxxDecW6c",
        "outputId": "6d35fd83-a4dd-44e9-9125-aa8f5e344c17"
      },
      "execution_count": 33,
      "outputs": [
        {
          "output_type": "execute_result",
          "data": {
            "text/plain": [
              "                                       user      sku            category  \\\n",
              "0  000000df17cd56a5df4a94074e133c9d4739fae3  2125233        abcat0101001   \n",
              "1  000001928162247ffaf63185cd8b2a244c78e7c6  2009324        abcat0101001   \n",
              "2  000017f79c2b5da56721f22f9fdd726b13daf8e8  1517163  pcmcat193100050014   \n",
              "3  000017f79c2b5da56721f22f9fdd726b13daf8e8  2877125        abcat0101001   \n",
              "4  000017f79c2b5da56721f22f9fdd726b13daf8e8  2877134        abcat0101005   \n",
              "\n",
              "                                 query              click_time  \\\n",
              "0  Televisiones Panasonic  50 pulgadas 2011-09-01 23:44:52.533   \n",
              "1                                Sharp 2011-09-05 12:25:37.420   \n",
              "2                                 nook 2011-08-24 12:56:58.910   \n",
              "3                                  rca 2011-10-25 07:18:14.722   \n",
              "4                                  rca 2011-10-25 07:19:51.697   \n",
              "\n",
              "               query_time              time_diff  \n",
              "0 2011-09-01 23:43:59.752 0 days 00:00:52.781000  \n",
              "1 2011-09-05 12:25:01.187 0 days 00:00:36.233000  \n",
              "2 2011-08-24 12:55:13.012 0 days 00:01:45.898000  \n",
              "3 2011-10-25 07:16:51.759 0 days 00:01:22.963000  \n",
              "4 2011-10-25 07:16:51.759 0 days 00:02:59.938000  "
            ],
            "text/html": [
              "\n",
              "  <div id=\"df-d096b928-707a-44da-96c7-bb218065d43c\">\n",
              "    <div class=\"colab-df-container\">\n",
              "      <div>\n",
              "<style scoped>\n",
              "    .dataframe tbody tr th:only-of-type {\n",
              "        vertical-align: middle;\n",
              "    }\n",
              "\n",
              "    .dataframe tbody tr th {\n",
              "        vertical-align: top;\n",
              "    }\n",
              "\n",
              "    .dataframe thead th {\n",
              "        text-align: right;\n",
              "    }\n",
              "</style>\n",
              "<table border=\"1\" class=\"dataframe\">\n",
              "  <thead>\n",
              "    <tr style=\"text-align: right;\">\n",
              "      <th></th>\n",
              "      <th>user</th>\n",
              "      <th>sku</th>\n",
              "      <th>category</th>\n",
              "      <th>query</th>\n",
              "      <th>click_time</th>\n",
              "      <th>query_time</th>\n",
              "      <th>time_diff</th>\n",
              "    </tr>\n",
              "  </thead>\n",
              "  <tbody>\n",
              "    <tr>\n",
              "      <th>0</th>\n",
              "      <td>000000df17cd56a5df4a94074e133c9d4739fae3</td>\n",
              "      <td>2125233</td>\n",
              "      <td>abcat0101001</td>\n",
              "      <td>Televisiones Panasonic  50 pulgadas</td>\n",
              "      <td>2011-09-01 23:44:52.533</td>\n",
              "      <td>2011-09-01 23:43:59.752</td>\n",
              "      <td>0 days 00:00:52.781000</td>\n",
              "    </tr>\n",
              "    <tr>\n",
              "      <th>1</th>\n",
              "      <td>000001928162247ffaf63185cd8b2a244c78e7c6</td>\n",
              "      <td>2009324</td>\n",
              "      <td>abcat0101001</td>\n",
              "      <td>Sharp</td>\n",
              "      <td>2011-09-05 12:25:37.420</td>\n",
              "      <td>2011-09-05 12:25:01.187</td>\n",
              "      <td>0 days 00:00:36.233000</td>\n",
              "    </tr>\n",
              "    <tr>\n",
              "      <th>2</th>\n",
              "      <td>000017f79c2b5da56721f22f9fdd726b13daf8e8</td>\n",
              "      <td>1517163</td>\n",
              "      <td>pcmcat193100050014</td>\n",
              "      <td>nook</td>\n",
              "      <td>2011-08-24 12:56:58.910</td>\n",
              "      <td>2011-08-24 12:55:13.012</td>\n",
              "      <td>0 days 00:01:45.898000</td>\n",
              "    </tr>\n",
              "    <tr>\n",
              "      <th>3</th>\n",
              "      <td>000017f79c2b5da56721f22f9fdd726b13daf8e8</td>\n",
              "      <td>2877125</td>\n",
              "      <td>abcat0101001</td>\n",
              "      <td>rca</td>\n",
              "      <td>2011-10-25 07:18:14.722</td>\n",
              "      <td>2011-10-25 07:16:51.759</td>\n",
              "      <td>0 days 00:01:22.963000</td>\n",
              "    </tr>\n",
              "    <tr>\n",
              "      <th>4</th>\n",
              "      <td>000017f79c2b5da56721f22f9fdd726b13daf8e8</td>\n",
              "      <td>2877134</td>\n",
              "      <td>abcat0101005</td>\n",
              "      <td>rca</td>\n",
              "      <td>2011-10-25 07:19:51.697</td>\n",
              "      <td>2011-10-25 07:16:51.759</td>\n",
              "      <td>0 days 00:02:59.938000</td>\n",
              "    </tr>\n",
              "  </tbody>\n",
              "</table>\n",
              "</div>\n",
              "      <button class=\"colab-df-convert\" onclick=\"convertToInteractive('df-d096b928-707a-44da-96c7-bb218065d43c')\"\n",
              "              title=\"Convert this dataframe to an interactive table.\"\n",
              "              style=\"display:none;\">\n",
              "        \n",
              "  <svg xmlns=\"http://www.w3.org/2000/svg\" height=\"24px\"viewBox=\"0 0 24 24\"\n",
              "       width=\"24px\">\n",
              "    <path d=\"M0 0h24v24H0V0z\" fill=\"none\"/>\n",
              "    <path d=\"M18.56 5.44l.94 2.06.94-2.06 2.06-.94-2.06-.94-.94-2.06-.94 2.06-2.06.94zm-11 1L8.5 8.5l.94-2.06 2.06-.94-2.06-.94L8.5 2.5l-.94 2.06-2.06.94zm10 10l.94 2.06.94-2.06 2.06-.94-2.06-.94-.94-2.06-.94 2.06-2.06.94z\"/><path d=\"M17.41 7.96l-1.37-1.37c-.4-.4-.92-.59-1.43-.59-.52 0-1.04.2-1.43.59L10.3 9.45l-7.72 7.72c-.78.78-.78 2.05 0 2.83L4 21.41c.39.39.9.59 1.41.59.51 0 1.02-.2 1.41-.59l7.78-7.78 2.81-2.81c.8-.78.8-2.07 0-2.86zM5.41 20L4 18.59l7.72-7.72 1.47 1.35L5.41 20z\"/>\n",
              "  </svg>\n",
              "      </button>\n",
              "      \n",
              "  <style>\n",
              "    .colab-df-container {\n",
              "      display:flex;\n",
              "      flex-wrap:wrap;\n",
              "      gap: 12px;\n",
              "    }\n",
              "\n",
              "    .colab-df-convert {\n",
              "      background-color: #E8F0FE;\n",
              "      border: none;\n",
              "      border-radius: 50%;\n",
              "      cursor: pointer;\n",
              "      display: none;\n",
              "      fill: #1967D2;\n",
              "      height: 32px;\n",
              "      padding: 0 0 0 0;\n",
              "      width: 32px;\n",
              "    }\n",
              "\n",
              "    .colab-df-convert:hover {\n",
              "      background-color: #E2EBFA;\n",
              "      box-shadow: 0px 1px 2px rgba(60, 64, 67, 0.3), 0px 1px 3px 1px rgba(60, 64, 67, 0.15);\n",
              "      fill: #174EA6;\n",
              "    }\n",
              "\n",
              "    [theme=dark] .colab-df-convert {\n",
              "      background-color: #3B4455;\n",
              "      fill: #D2E3FC;\n",
              "    }\n",
              "\n",
              "    [theme=dark] .colab-df-convert:hover {\n",
              "      background-color: #434B5C;\n",
              "      box-shadow: 0px 1px 3px 1px rgba(0, 0, 0, 0.15);\n",
              "      filter: drop-shadow(0px 1px 2px rgba(0, 0, 0, 0.3));\n",
              "      fill: #FFFFFF;\n",
              "    }\n",
              "  </style>\n",
              "\n",
              "      <script>\n",
              "        const buttonEl =\n",
              "          document.querySelector('#df-d096b928-707a-44da-96c7-bb218065d43c button.colab-df-convert');\n",
              "        buttonEl.style.display =\n",
              "          google.colab.kernel.accessAllowed ? 'block' : 'none';\n",
              "\n",
              "        async function convertToInteractive(key) {\n",
              "          const element = document.querySelector('#df-d096b928-707a-44da-96c7-bb218065d43c');\n",
              "          const dataTable =\n",
              "            await google.colab.kernel.invokeFunction('convertToInteractive',\n",
              "                                                     [key], {});\n",
              "          if (!dataTable) return;\n",
              "\n",
              "          const docLinkHtml = 'Like what you see? Visit the ' +\n",
              "            '<a target=\"_blank\" href=https://colab.research.google.com/notebooks/data_table.ipynb>data table notebook</a>'\n",
              "            + ' to learn more about interactive tables.';\n",
              "          element.innerHTML = '';\n",
              "          dataTable['output_type'] = 'display_data';\n",
              "          await google.colab.output.renderOutput(dataTable, element);\n",
              "          const docLink = document.createElement('div');\n",
              "          docLink.innerHTML = docLinkHtml;\n",
              "          element.appendChild(docLink);\n",
              "        }\n",
              "      </script>\n",
              "    </div>\n",
              "  </div>\n",
              "  "
            ]
          },
          "metadata": {},
          "execution_count": 33
        }
      ]
    },
    {
      "cell_type": "code",
      "source": [
        "train.info()"
      ],
      "metadata": {
        "colab": {
          "base_uri": "https://localhost:8080/"
        },
        "id": "cH2caXxScZc8",
        "outputId": "cbe90b1d-e0b0-4a48-d35c-d309d35383c1"
      },
      "execution_count": 34,
      "outputs": [
        {
          "output_type": "stream",
          "name": "stdout",
          "text": [
            "<class 'pandas.core.frame.DataFrame'>\n",
            "RangeIndex: 1865269 entries, 0 to 1865268\n",
            "Data columns (total 7 columns):\n",
            " #   Column      Dtype          \n",
            "---  ------      -----          \n",
            " 0   user        object         \n",
            " 1   sku         int64          \n",
            " 2   category    object         \n",
            " 3   query       object         \n",
            " 4   click_time  datetime64[ns] \n",
            " 5   query_time  datetime64[ns] \n",
            " 6   time_diff   timedelta64[ns]\n",
            "dtypes: datetime64[ns](2), int64(1), object(3), timedelta64[ns](1)\n",
            "memory usage: 99.6+ MB\n"
          ]
        }
      ]
    },
    {
      "cell_type": "code",
      "source": [
        "train.groupby(\"category\").count().head()"
      ],
      "metadata": {
        "colab": {
          "base_uri": "https://localhost:8080/",
          "height": 238
        },
        "id": "IoRb-7iUcev8",
        "outputId": "aa944b89-6903-4706-e952-3d629f0a309f"
      },
      "execution_count": 35,
      "outputs": [
        {
          "output_type": "execute_result",
          "data": {
            "text/plain": [
              "              user  sku  query  click_time  query_time  time_diff\n",
              "category                                                         \n",
              "None            63   63     63          63          63         63\n",
              "abcat0011000    16   16     16          16          16         16\n",
              "abcat0020000     1    1      1           1           1          1\n",
              "abcat0020004     3    3      3           3           3          3\n",
              "abcat0031100    34   34     34          34          34         34"
            ],
            "text/html": [
              "\n",
              "  <div id=\"df-a6a36bfb-1f29-4b24-a48d-b61696e12630\">\n",
              "    <div class=\"colab-df-container\">\n",
              "      <div>\n",
              "<style scoped>\n",
              "    .dataframe tbody tr th:only-of-type {\n",
              "        vertical-align: middle;\n",
              "    }\n",
              "\n",
              "    .dataframe tbody tr th {\n",
              "        vertical-align: top;\n",
              "    }\n",
              "\n",
              "    .dataframe thead th {\n",
              "        text-align: right;\n",
              "    }\n",
              "</style>\n",
              "<table border=\"1\" class=\"dataframe\">\n",
              "  <thead>\n",
              "    <tr style=\"text-align: right;\">\n",
              "      <th></th>\n",
              "      <th>user</th>\n",
              "      <th>sku</th>\n",
              "      <th>query</th>\n",
              "      <th>click_time</th>\n",
              "      <th>query_time</th>\n",
              "      <th>time_diff</th>\n",
              "    </tr>\n",
              "    <tr>\n",
              "      <th>category</th>\n",
              "      <th></th>\n",
              "      <th></th>\n",
              "      <th></th>\n",
              "      <th></th>\n",
              "      <th></th>\n",
              "      <th></th>\n",
              "    </tr>\n",
              "  </thead>\n",
              "  <tbody>\n",
              "    <tr>\n",
              "      <th>None</th>\n",
              "      <td>63</td>\n",
              "      <td>63</td>\n",
              "      <td>63</td>\n",
              "      <td>63</td>\n",
              "      <td>63</td>\n",
              "      <td>63</td>\n",
              "    </tr>\n",
              "    <tr>\n",
              "      <th>abcat0011000</th>\n",
              "      <td>16</td>\n",
              "      <td>16</td>\n",
              "      <td>16</td>\n",
              "      <td>16</td>\n",
              "      <td>16</td>\n",
              "      <td>16</td>\n",
              "    </tr>\n",
              "    <tr>\n",
              "      <th>abcat0020000</th>\n",
              "      <td>1</td>\n",
              "      <td>1</td>\n",
              "      <td>1</td>\n",
              "      <td>1</td>\n",
              "      <td>1</td>\n",
              "      <td>1</td>\n",
              "    </tr>\n",
              "    <tr>\n",
              "      <th>abcat0020004</th>\n",
              "      <td>3</td>\n",
              "      <td>3</td>\n",
              "      <td>3</td>\n",
              "      <td>3</td>\n",
              "      <td>3</td>\n",
              "      <td>3</td>\n",
              "    </tr>\n",
              "    <tr>\n",
              "      <th>abcat0031100</th>\n",
              "      <td>34</td>\n",
              "      <td>34</td>\n",
              "      <td>34</td>\n",
              "      <td>34</td>\n",
              "      <td>34</td>\n",
              "      <td>34</td>\n",
              "    </tr>\n",
              "  </tbody>\n",
              "</table>\n",
              "</div>\n",
              "      <button class=\"colab-df-convert\" onclick=\"convertToInteractive('df-a6a36bfb-1f29-4b24-a48d-b61696e12630')\"\n",
              "              title=\"Convert this dataframe to an interactive table.\"\n",
              "              style=\"display:none;\">\n",
              "        \n",
              "  <svg xmlns=\"http://www.w3.org/2000/svg\" height=\"24px\"viewBox=\"0 0 24 24\"\n",
              "       width=\"24px\">\n",
              "    <path d=\"M0 0h24v24H0V0z\" fill=\"none\"/>\n",
              "    <path d=\"M18.56 5.44l.94 2.06.94-2.06 2.06-.94-2.06-.94-.94-2.06-.94 2.06-2.06.94zm-11 1L8.5 8.5l.94-2.06 2.06-.94-2.06-.94L8.5 2.5l-.94 2.06-2.06.94zm10 10l.94 2.06.94-2.06 2.06-.94-2.06-.94-.94-2.06-.94 2.06-2.06.94z\"/><path d=\"M17.41 7.96l-1.37-1.37c-.4-.4-.92-.59-1.43-.59-.52 0-1.04.2-1.43.59L10.3 9.45l-7.72 7.72c-.78.78-.78 2.05 0 2.83L4 21.41c.39.39.9.59 1.41.59.51 0 1.02-.2 1.41-.59l7.78-7.78 2.81-2.81c.8-.78.8-2.07 0-2.86zM5.41 20L4 18.59l7.72-7.72 1.47 1.35L5.41 20z\"/>\n",
              "  </svg>\n",
              "      </button>\n",
              "      \n",
              "  <style>\n",
              "    .colab-df-container {\n",
              "      display:flex;\n",
              "      flex-wrap:wrap;\n",
              "      gap: 12px;\n",
              "    }\n",
              "\n",
              "    .colab-df-convert {\n",
              "      background-color: #E8F0FE;\n",
              "      border: none;\n",
              "      border-radius: 50%;\n",
              "      cursor: pointer;\n",
              "      display: none;\n",
              "      fill: #1967D2;\n",
              "      height: 32px;\n",
              "      padding: 0 0 0 0;\n",
              "      width: 32px;\n",
              "    }\n",
              "\n",
              "    .colab-df-convert:hover {\n",
              "      background-color: #E2EBFA;\n",
              "      box-shadow: 0px 1px 2px rgba(60, 64, 67, 0.3), 0px 1px 3px 1px rgba(60, 64, 67, 0.15);\n",
              "      fill: #174EA6;\n",
              "    }\n",
              "\n",
              "    [theme=dark] .colab-df-convert {\n",
              "      background-color: #3B4455;\n",
              "      fill: #D2E3FC;\n",
              "    }\n",
              "\n",
              "    [theme=dark] .colab-df-convert:hover {\n",
              "      background-color: #434B5C;\n",
              "      box-shadow: 0px 1px 3px 1px rgba(0, 0, 0, 0.15);\n",
              "      filter: drop-shadow(0px 1px 2px rgba(0, 0, 0, 0.3));\n",
              "      fill: #FFFFFF;\n",
              "    }\n",
              "  </style>\n",
              "\n",
              "      <script>\n",
              "        const buttonEl =\n",
              "          document.querySelector('#df-a6a36bfb-1f29-4b24-a48d-b61696e12630 button.colab-df-convert');\n",
              "        buttonEl.style.display =\n",
              "          google.colab.kernel.accessAllowed ? 'block' : 'none';\n",
              "\n",
              "        async function convertToInteractive(key) {\n",
              "          const element = document.querySelector('#df-a6a36bfb-1f29-4b24-a48d-b61696e12630');\n",
              "          const dataTable =\n",
              "            await google.colab.kernel.invokeFunction('convertToInteractive',\n",
              "                                                     [key], {});\n",
              "          if (!dataTable) return;\n",
              "\n",
              "          const docLinkHtml = 'Like what you see? Visit the ' +\n",
              "            '<a target=\"_blank\" href=https://colab.research.google.com/notebooks/data_table.ipynb>data table notebook</a>'\n",
              "            + ' to learn more about interactive tables.';\n",
              "          element.innerHTML = '';\n",
              "          dataTable['output_type'] = 'display_data';\n",
              "          await google.colab.output.renderOutput(dataTable, element);\n",
              "          const docLink = document.createElement('div');\n",
              "          docLink.innerHTML = docLinkHtml;\n",
              "          element.appendChild(docLink);\n",
              "        }\n",
              "      </script>\n",
              "    </div>\n",
              "  </div>\n",
              "  "
            ]
          },
          "metadata": {},
          "execution_count": 35
        }
      ]
    },
    {
      "cell_type": "code",
      "source": [
        "train[\"category\"].value_counts().head()"
      ],
      "metadata": {
        "colab": {
          "base_uri": "https://localhost:8080/"
        },
        "id": "8oPMjRBMcmbl",
        "outputId": "0f2b64f8-63f9-402b-94a1-24a49bb52f1c"
      },
      "execution_count": 37,
      "outputs": [
        {
          "output_type": "execute_result",
          "data": {
            "text/plain": [
              "cat02015              177638\n",
              "abcat0101001           80213\n",
              "pcmcat247400050000     79245\n",
              "pcmcat209000050008     74258\n",
              "pcmcat144700050004     43991\n",
              "Name: category, dtype: int64"
            ]
          },
          "metadata": {},
          "execution_count": 37
        }
      ]
    },
    {
      "cell_type": "code",
      "source": [
        "!ls"
      ],
      "metadata": {
        "colab": {
          "base_uri": "https://localhost:8080/"
        },
        "id": "kZs8mGJocr1t",
        "outputId": "51c6cb53-107b-484b-a17c-eb84e6cf4d45"
      },
      "execution_count": 38,
      "outputs": [
        {
          "output_type": "stream",
          "name": "stdout",
          "text": [
            "bestbuy.zip  popular_skus.csv  product_data.tar  test.csv\n",
            "drive\t     popular_skus.py   sample_data\t train.csv\n"
          ]
        }
      ]
    },
    {
      "cell_type": "code",
      "source": [
        "# A dependency of the preprocessing for BERT inputs\n",
        "!pip install -q -U \"tensorflow-text==2.8.*\""
      ],
      "metadata": {
        "colab": {
          "base_uri": "https://localhost:8080/"
        },
        "id": "23zXlg0Bc-OY",
        "outputId": "2b8e501a-2b10-42fe-98e4-98a105f974d8"
      },
      "execution_count": 41,
      "outputs": [
        {
          "output_type": "stream",
          "name": "stdout",
          "text": [
            "\u001b[K     |████████████████████████████████| 4.9 MB 5.2 MB/s \n",
            "\u001b[K     |████████████████████████████████| 497.9 MB 25 kB/s \n",
            "\u001b[K     |████████████████████████████████| 1.4 MB 44.2 MB/s \n",
            "\u001b[K     |████████████████████████████████| 462 kB 55.6 MB/s \n",
            "\u001b[K     |████████████████████████████████| 5.8 MB 43.7 MB/s \n",
            "\u001b[?25h"
          ]
        }
      ]
    },
    {
      "cell_type": "code",
      "source": [
        "!pip install -q tf-models-official==2.7.0"
      ],
      "metadata": {
        "colab": {
          "base_uri": "https://localhost:8080/"
        },
        "id": "2WQRkOfhdCNz",
        "outputId": "2dd0a1b7-3aba-4c59-8667-3927b15ccbab"
      },
      "execution_count": 42,
      "outputs": [
        {
          "output_type": "stream",
          "name": "stdout",
          "text": [
            "\u001b[K     |████████████████████████████████| 1.8 MB 4.9 MB/s \n",
            "\u001b[K     |████████████████████████████████| 352 kB 42.7 MB/s \n",
            "\u001b[K     |████████████████████████████████| 238 kB 39.5 MB/s \n",
            "\u001b[K     |████████████████████████████████| 118 kB 43.3 MB/s \n",
            "\u001b[K     |████████████████████████████████| 43 kB 997 kB/s \n",
            "\u001b[K     |████████████████████████████████| 1.3 MB 33.7 MB/s \n",
            "\u001b[K     |████████████████████████████████| 1.1 MB 51.9 MB/s \n",
            "\u001b[?25h  Building wheel for seqeval (setup.py) ... \u001b[?25l\u001b[?25hdone\n"
          ]
        }
      ]
    },
    {
      "cell_type": "code",
      "source": [
        "train['category_l1'] = 'cat00000'"
      ],
      "metadata": {
        "id": "4-mEyLpodStQ"
      },
      "execution_count": 51,
      "outputs": []
    },
    {
      "cell_type": "code",
      "source": [
        "train['category_l2'] = 'abcat0100000'"
      ],
      "metadata": {
        "id": "hqHe9hT2es4l"
      },
      "execution_count": 52,
      "outputs": []
    },
    {
      "cell_type": "code",
      "source": [
        "train['category_l3'] = 'abcat0101000'"
      ],
      "metadata": {
        "id": "jdvv7Xa-exlv"
      },
      "execution_count": 53,
      "outputs": []
    },
    {
      "cell_type": "code",
      "source": [
        "train['category_l4'] = 'abcat0101001'"
      ],
      "metadata": {
        "id": "rbzc85Pfey0X"
      },
      "execution_count": 54,
      "outputs": []
    },
    {
      "cell_type": "code",
      "source": [
        "train['category_l5'] = ''"
      ],
      "metadata": {
        "id": "VwS-xFX5e1E6"
      },
      "execution_count": 55,
      "outputs": []
    },
    {
      "cell_type": "code",
      "source": [
        "train.loc[0:4]"
      ],
      "metadata": {
        "colab": {
          "base_uri": "https://localhost:8080/",
          "height": 392
        },
        "id": "K8tbthkVeo6U",
        "outputId": "3d45f3d9-c4b4-40a4-efa0-fcba9d936793"
      },
      "execution_count": 56,
      "outputs": [
        {
          "output_type": "execute_result",
          "data": {
            "text/plain": [
              "                                       user      sku            category  \\\n",
              "0  000000df17cd56a5df4a94074e133c9d4739fae3  2125233        abcat0101001   \n",
              "1  000001928162247ffaf63185cd8b2a244c78e7c6  2009324        abcat0101001   \n",
              "2  000017f79c2b5da56721f22f9fdd726b13daf8e8  1517163  pcmcat193100050014   \n",
              "3  000017f79c2b5da56721f22f9fdd726b13daf8e8  2877125        abcat0101001   \n",
              "4  000017f79c2b5da56721f22f9fdd726b13daf8e8  2877134        abcat0101005   \n",
              "\n",
              "                                 query              click_time  \\\n",
              "0  Televisiones Panasonic  50 pulgadas 2011-09-01 23:44:52.533   \n",
              "1                                Sharp 2011-09-05 12:25:37.420   \n",
              "2                                 nook 2011-08-24 12:56:58.910   \n",
              "3                                  rca 2011-10-25 07:18:14.722   \n",
              "4                                  rca 2011-10-25 07:19:51.697   \n",
              "\n",
              "               query_time              time_diff category_l1   category_l2  \\\n",
              "0 2011-09-01 23:43:59.752 0 days 00:00:52.781000    cat00000  abcat0100000   \n",
              "1 2011-09-05 12:25:01.187 0 days 00:00:36.233000    cat00000  abcat0100000   \n",
              "2 2011-08-24 12:55:13.012 0 days 00:01:45.898000    cat00000  abcat0100000   \n",
              "3 2011-10-25 07:16:51.759 0 days 00:01:22.963000    cat00000  abcat0100000   \n",
              "4 2011-10-25 07:16:51.759 0 days 00:02:59.938000    cat00000  abcat0100000   \n",
              "\n",
              "    category_l3   category_l4 category_l5  \n",
              "0  abcat0101000  abcat0101001              \n",
              "1  abcat0101000  abcat0101001              \n",
              "2  abcat0101000  abcat0101001              \n",
              "3  abcat0101000  abcat0101001              \n",
              "4  abcat0101000  abcat0101001              "
            ],
            "text/html": [
              "\n",
              "  <div id=\"df-bfeb628b-7090-447c-a053-5b45136e43bd\">\n",
              "    <div class=\"colab-df-container\">\n",
              "      <div>\n",
              "<style scoped>\n",
              "    .dataframe tbody tr th:only-of-type {\n",
              "        vertical-align: middle;\n",
              "    }\n",
              "\n",
              "    .dataframe tbody tr th {\n",
              "        vertical-align: top;\n",
              "    }\n",
              "\n",
              "    .dataframe thead th {\n",
              "        text-align: right;\n",
              "    }\n",
              "</style>\n",
              "<table border=\"1\" class=\"dataframe\">\n",
              "  <thead>\n",
              "    <tr style=\"text-align: right;\">\n",
              "      <th></th>\n",
              "      <th>user</th>\n",
              "      <th>sku</th>\n",
              "      <th>category</th>\n",
              "      <th>query</th>\n",
              "      <th>click_time</th>\n",
              "      <th>query_time</th>\n",
              "      <th>time_diff</th>\n",
              "      <th>category_l1</th>\n",
              "      <th>category_l2</th>\n",
              "      <th>category_l3</th>\n",
              "      <th>category_l4</th>\n",
              "      <th>category_l5</th>\n",
              "    </tr>\n",
              "  </thead>\n",
              "  <tbody>\n",
              "    <tr>\n",
              "      <th>0</th>\n",
              "      <td>000000df17cd56a5df4a94074e133c9d4739fae3</td>\n",
              "      <td>2125233</td>\n",
              "      <td>abcat0101001</td>\n",
              "      <td>Televisiones Panasonic  50 pulgadas</td>\n",
              "      <td>2011-09-01 23:44:52.533</td>\n",
              "      <td>2011-09-01 23:43:59.752</td>\n",
              "      <td>0 days 00:00:52.781000</td>\n",
              "      <td>cat00000</td>\n",
              "      <td>abcat0100000</td>\n",
              "      <td>abcat0101000</td>\n",
              "      <td>abcat0101001</td>\n",
              "      <td></td>\n",
              "    </tr>\n",
              "    <tr>\n",
              "      <th>1</th>\n",
              "      <td>000001928162247ffaf63185cd8b2a244c78e7c6</td>\n",
              "      <td>2009324</td>\n",
              "      <td>abcat0101001</td>\n",
              "      <td>Sharp</td>\n",
              "      <td>2011-09-05 12:25:37.420</td>\n",
              "      <td>2011-09-05 12:25:01.187</td>\n",
              "      <td>0 days 00:00:36.233000</td>\n",
              "      <td>cat00000</td>\n",
              "      <td>abcat0100000</td>\n",
              "      <td>abcat0101000</td>\n",
              "      <td>abcat0101001</td>\n",
              "      <td></td>\n",
              "    </tr>\n",
              "    <tr>\n",
              "      <th>2</th>\n",
              "      <td>000017f79c2b5da56721f22f9fdd726b13daf8e8</td>\n",
              "      <td>1517163</td>\n",
              "      <td>pcmcat193100050014</td>\n",
              "      <td>nook</td>\n",
              "      <td>2011-08-24 12:56:58.910</td>\n",
              "      <td>2011-08-24 12:55:13.012</td>\n",
              "      <td>0 days 00:01:45.898000</td>\n",
              "      <td>cat00000</td>\n",
              "      <td>abcat0100000</td>\n",
              "      <td>abcat0101000</td>\n",
              "      <td>abcat0101001</td>\n",
              "      <td></td>\n",
              "    </tr>\n",
              "    <tr>\n",
              "      <th>3</th>\n",
              "      <td>000017f79c2b5da56721f22f9fdd726b13daf8e8</td>\n",
              "      <td>2877125</td>\n",
              "      <td>abcat0101001</td>\n",
              "      <td>rca</td>\n",
              "      <td>2011-10-25 07:18:14.722</td>\n",
              "      <td>2011-10-25 07:16:51.759</td>\n",
              "      <td>0 days 00:01:22.963000</td>\n",
              "      <td>cat00000</td>\n",
              "      <td>abcat0100000</td>\n",
              "      <td>abcat0101000</td>\n",
              "      <td>abcat0101001</td>\n",
              "      <td></td>\n",
              "    </tr>\n",
              "    <tr>\n",
              "      <th>4</th>\n",
              "      <td>000017f79c2b5da56721f22f9fdd726b13daf8e8</td>\n",
              "      <td>2877134</td>\n",
              "      <td>abcat0101005</td>\n",
              "      <td>rca</td>\n",
              "      <td>2011-10-25 07:19:51.697</td>\n",
              "      <td>2011-10-25 07:16:51.759</td>\n",
              "      <td>0 days 00:02:59.938000</td>\n",
              "      <td>cat00000</td>\n",
              "      <td>abcat0100000</td>\n",
              "      <td>abcat0101000</td>\n",
              "      <td>abcat0101001</td>\n",
              "      <td></td>\n",
              "    </tr>\n",
              "  </tbody>\n",
              "</table>\n",
              "</div>\n",
              "      <button class=\"colab-df-convert\" onclick=\"convertToInteractive('df-bfeb628b-7090-447c-a053-5b45136e43bd')\"\n",
              "              title=\"Convert this dataframe to an interactive table.\"\n",
              "              style=\"display:none;\">\n",
              "        \n",
              "  <svg xmlns=\"http://www.w3.org/2000/svg\" height=\"24px\"viewBox=\"0 0 24 24\"\n",
              "       width=\"24px\">\n",
              "    <path d=\"M0 0h24v24H0V0z\" fill=\"none\"/>\n",
              "    <path d=\"M18.56 5.44l.94 2.06.94-2.06 2.06-.94-2.06-.94-.94-2.06-.94 2.06-2.06.94zm-11 1L8.5 8.5l.94-2.06 2.06-.94-2.06-.94L8.5 2.5l-.94 2.06-2.06.94zm10 10l.94 2.06.94-2.06 2.06-.94-2.06-.94-.94-2.06-.94 2.06-2.06.94z\"/><path d=\"M17.41 7.96l-1.37-1.37c-.4-.4-.92-.59-1.43-.59-.52 0-1.04.2-1.43.59L10.3 9.45l-7.72 7.72c-.78.78-.78 2.05 0 2.83L4 21.41c.39.39.9.59 1.41.59.51 0 1.02-.2 1.41-.59l7.78-7.78 2.81-2.81c.8-.78.8-2.07 0-2.86zM5.41 20L4 18.59l7.72-7.72 1.47 1.35L5.41 20z\"/>\n",
              "  </svg>\n",
              "      </button>\n",
              "      \n",
              "  <style>\n",
              "    .colab-df-container {\n",
              "      display:flex;\n",
              "      flex-wrap:wrap;\n",
              "      gap: 12px;\n",
              "    }\n",
              "\n",
              "    .colab-df-convert {\n",
              "      background-color: #E8F0FE;\n",
              "      border: none;\n",
              "      border-radius: 50%;\n",
              "      cursor: pointer;\n",
              "      display: none;\n",
              "      fill: #1967D2;\n",
              "      height: 32px;\n",
              "      padding: 0 0 0 0;\n",
              "      width: 32px;\n",
              "    }\n",
              "\n",
              "    .colab-df-convert:hover {\n",
              "      background-color: #E2EBFA;\n",
              "      box-shadow: 0px 1px 2px rgba(60, 64, 67, 0.3), 0px 1px 3px 1px rgba(60, 64, 67, 0.15);\n",
              "      fill: #174EA6;\n",
              "    }\n",
              "\n",
              "    [theme=dark] .colab-df-convert {\n",
              "      background-color: #3B4455;\n",
              "      fill: #D2E3FC;\n",
              "    }\n",
              "\n",
              "    [theme=dark] .colab-df-convert:hover {\n",
              "      background-color: #434B5C;\n",
              "      box-shadow: 0px 1px 3px 1px rgba(0, 0, 0, 0.15);\n",
              "      filter: drop-shadow(0px 1px 2px rgba(0, 0, 0, 0.3));\n",
              "      fill: #FFFFFF;\n",
              "    }\n",
              "  </style>\n",
              "\n",
              "      <script>\n",
              "        const buttonEl =\n",
              "          document.querySelector('#df-bfeb628b-7090-447c-a053-5b45136e43bd button.colab-df-convert');\n",
              "        buttonEl.style.display =\n",
              "          google.colab.kernel.accessAllowed ? 'block' : 'none';\n",
              "\n",
              "        async function convertToInteractive(key) {\n",
              "          const element = document.querySelector('#df-bfeb628b-7090-447c-a053-5b45136e43bd');\n",
              "          const dataTable =\n",
              "            await google.colab.kernel.invokeFunction('convertToInteractive',\n",
              "                                                     [key], {});\n",
              "          if (!dataTable) return;\n",
              "\n",
              "          const docLinkHtml = 'Like what you see? Visit the ' +\n",
              "            '<a target=\"_blank\" href=https://colab.research.google.com/notebooks/data_table.ipynb>data table notebook</a>'\n",
              "            + ' to learn more about interactive tables.';\n",
              "          element.innerHTML = '';\n",
              "          dataTable['output_type'] = 'display_data';\n",
              "          await google.colab.output.renderOutput(dataTable, element);\n",
              "          const docLink = document.createElement('div');\n",
              "          docLink.innerHTML = docLinkHtml;\n",
              "          element.appendChild(docLink);\n",
              "        }\n",
              "      </script>\n",
              "    </div>\n",
              "  </div>\n",
              "  "
            ]
          },
          "metadata": {},
          "execution_count": 56
        }
      ]
    }
  ]
}